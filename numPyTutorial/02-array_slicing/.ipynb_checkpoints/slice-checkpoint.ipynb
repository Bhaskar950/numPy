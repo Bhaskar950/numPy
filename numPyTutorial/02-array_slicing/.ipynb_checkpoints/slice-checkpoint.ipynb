{
 "cells": [
  {
   "cell_type": "code",
   "execution_count": null,
   "id": "e8c9b548-d1b4-4fb0-9fcb-2ddf16d030a6",
   "metadata": {},
   "outputs": [],
   "source": [
    "# Slicing arrays\n",
    "# Slicing in python means taking elements from one given index to another given index.\n",
    "\n",
    "# We pass slice instead of index like this: [start:end].\n",
    "\n",
    "# We can also define the step, like this: [start:end:step].\n",
    "\n",
    "# If we don't pass start its considered 0\n",
    "\n",
    "# If we don't pass end its considered length of array in that dimension\n",
    "\n",
    "# If we don't pass step its considered 1\n",
    "\n",
    "\n"
   ]
  },
  {
   "cell_type": "code",
   "execution_count": 3,
   "id": "857d8132-8c68-4f1b-8132-d3eb524ba092",
   "metadata": {},
   "outputs": [
    {
     "name": "stdout",
     "output_type": "stream",
     "text": [
      "[1 3 4 5 6 7]\n"
     ]
    }
   ],
   "source": [
    "import numpy as np\n",
    "\n",
    "arr = np.array([1,3,4,5,6,7])\n",
    "val = arr[0:6]\n",
    "print(val)"
   ]
  },
  {
   "cell_type": "code",
   "execution_count": 38,
   "id": "ba56ac60-48a4-476a-a554-aec346dda4f7",
   "metadata": {},
   "outputs": [
    {
     "name": "stdout",
     "output_type": "stream",
     "text": [
      "[7 7 6 6 5 4 3 2]\n"
     ]
    }
   ],
   "source": [
    "arr = np.array([1,2,3,4,5,6,6,7,7])\n",
    "print(arr[8:0:-1])"
   ]
  },
  {
   "cell_type": "code",
   "execution_count": 42,
   "id": "bff31fb9-9109-48c5-8bb1-52f6a690bab8",
   "metadata": {},
   "outputs": [
    {
     "name": "stdout",
     "output_type": "stream",
     "text": [
      "[1 2 3 4 5 6 6 7 7]\n"
     ]
    }
   ],
   "source": [
    "arr = np.array([1,2,3,4,5,6,6,7,7])\n",
    "print(arr[0:9:1])"
   ]
  },
  {
   "cell_type": "code",
   "execution_count": 72,
   "id": "a17521f7-bb1d-407f-84ca-f22fb90347a7",
   "metadata": {},
   "outputs": [
    {
     "name": "stdout",
     "output_type": "stream",
     "text": [
      "[4 5 6 7]\n"
     ]
    }
   ],
   "source": [
    "arr = np.array([1,2,3,4,5,6,7])\n",
    "n = len(arr)\n",
    "print(arr[3:n])\n",
    "\n"
   ]
  },
  {
   "cell_type": "code",
   "execution_count": 75,
   "id": "a463b356-36cd-462f-aeef-ec804850dcba",
   "metadata": {},
   "outputs": [
    {
     "name": "stdout",
     "output_type": "stream",
     "text": [
      "[5 6]\n"
     ]
    }
   ],
   "source": [
    "arr = np.array([1,2,3,4,5,6,7])\n",
    "n = len(arr)\n",
    "print(arr[-3:-1])"
   ]
  },
  {
   "cell_type": "code",
   "execution_count": 83,
   "id": "c8412e32-f7e3-4d76-a32b-e6f871e949b8",
   "metadata": {},
   "outputs": [
    {
     "name": "stdout",
     "output_type": "stream",
     "text": [
      "[6 5 4 3 2]\n"
     ]
    }
   ],
   "source": [
    "# step\n",
    "\n",
    "arr = np.array([1,2,3,4,5,6,6])\n",
    "n = len(arr) -1\n",
    "val = arr[n:0:-1]\n",
    "print(val)"
   ]
  },
  {
   "cell_type": "code",
   "execution_count": 85,
   "id": "d9ec2854-1905-40ca-b876-5f7f72deb3d7",
   "metadata": {},
   "outputs": [
    {
     "name": "stdout",
     "output_type": "stream",
     "text": [
      "[ 1  4 77]\n"
     ]
    }
   ],
   "source": [
    "arr = np.array([1,3,4,56,77])\n",
    "val = arr[::2]\n",
    "print(val)"
   ]
  },
  {
   "cell_type": "code",
   "execution_count": 95,
   "id": "252e27ae-6156-43f8-9108-205e167d63a3",
   "metadata": {},
   "outputs": [
    {
     "name": "stdout",
     "output_type": "stream",
     "text": [
      "[6]\n"
     ]
    }
   ],
   "source": [
    "# 2d array slicing\n",
    "arr = np.array([[1, 2, 3, 4, 5], [6, 7, 8, 9, 10]])\n",
    "\n",
    "print(arr[])\n"
   ]
  },
  {
   "cell_type": "code",
   "execution_count": 97,
   "id": "1003b108-a95d-43ea-bee6-253dd5aceaac",
   "metadata": {},
   "outputs": [
    {
     "name": "stdout",
     "output_type": "stream",
     "text": [
      "[3 8]\n"
     ]
    }
   ],
   "source": [
    "import numpy as np\n",
    "\n",
    "arr = np.array([[1, 2, 3, 4, 5], [6, 7, 8, 9, 10]])\n",
    "\n",
    "print(arr[0:2, 2])"
   ]
  },
  {
   "cell_type": "code",
   "execution_count": null,
   "id": "2b6177e8-fa77-4a67-86a9-6ba0258b4c36",
   "metadata": {},
   "outputs": [],
   "source": []
  }
 ],
 "metadata": {
  "kernelspec": {
   "display_name": "Python 3 (ipykernel)",
   "language": "python",
   "name": "python3"
  },
  "language_info": {
   "codemirror_mode": {
    "name": "ipython",
    "version": 3
   },
   "file_extension": ".py",
   "mimetype": "text/x-python",
   "name": "python",
   "nbconvert_exporter": "python",
   "pygments_lexer": "ipython3",
   "version": "3.12.4"
  }
 },
 "nbformat": 4,
 "nbformat_minor": 5
}
